{
 "cells": [
  {
   "cell_type": "markdown",
   "id": "3ae6832c",
   "metadata": {},
   "source": [
    "## A company in India has offered content writing internships to students. They pay the Intern Rs. 0.50 paisa per word written in their submitted work. \n",
    "## Calculate the total number of words and the employee's total stipend based on the work they submitted."
   ]
  },
  {
   "cell_type": "code",
   "execution_count": 1,
   "id": "5d73eb34",
   "metadata": {},
   "outputs": [
    {
     "name": "stdout",
     "output_type": "stream",
     "text": [
      "The Monk Who Sold His Ferrari by Robin Sharma is a self-help book. It is a story about fulfilling one's dream, and the author shows a path to reaching our destiny. \n",
      "\n",
      "The main character of this story is Julian Mantle, an enormously successful lawyer. His outrageous courtroom theatrics regularly made the front pages of the newspaper. Unfortunately, he suffered a severe heart attack in court, and his life changed after that. He quit his job, sold all his belongings, and flew to India searching for Nirvana or the true meaning of his life. \n",
      "\n",
      "It's a story about the transformation of 53-year-old Julian into a man who looks like 30 without any wrinkles on his face. Julian came to his country and met his old friend and colleague John. Julian shared his story and experience with his friend.   \n",
      "\n",
      "Robin Sharma shows a path of enlightenment through seven timeless virtue and symbols. This story tells you how to master your mind, follow your purpose, practice Kaizen, live with discipline, respect your time, selflessly serve others, and embrace the present.\n",
      "\n",
      "The story has a single POV. It is slow-paced, and a few times, it makes me bored. The characters are a little bit dull. Julian is considered a litigator, while John wants to understand his friend's shared. This book fills with different examples and stories to understand the meaning of life. Julian learned these things from the Sages of Sivana in India. The story definitely left an impact on readers. This book encourages you to follow your calling and do what makes you happy. It is a recommendable read. \n"
     ]
    }
   ],
   "source": [
    "#Opening the file in read mode as file\n",
    "with open('BookReview.txt','r') as file:\n",
    "       f = file.read()               #using the read() function and storing\n",
    "print(f)                             #printing the contents of the file"
   ]
  },
  {
   "cell_type": "code",
   "execution_count": 2,
   "id": "ffb20133",
   "metadata": {},
   "outputs": [
    {
     "name": "stdout",
     "output_type": "stream",
     "text": [
      "['The', 'Monk', 'Who', 'Sold', 'His', 'Ferrari', 'by', 'Robin', 'Sharma', 'is', 'a', 'self-help', 'book.', 'It', 'is', 'a', 'story', 'about', 'fulfilling', \"one's\", 'dream,', 'and', 'the', 'author', 'shows', 'a', 'path', 'to', 'reaching', 'our', 'destiny.', 'The', 'main', 'character', 'of', 'this', 'story', 'is', 'Julian', 'Mantle,', 'an', 'enormously', 'successful', 'lawyer.', 'His', 'outrageous', 'courtroom', 'theatrics', 'regularly', 'made', 'the', 'front', 'pages', 'of', 'the', 'newspaper.', 'Unfortunately,', 'he', 'suffered', 'a', 'severe', 'heart', 'attack', 'in', 'court,', 'and', 'his', 'life', 'changed', 'after', 'that.', 'He', 'quit', 'his', 'job,', 'sold', 'all', 'his', 'belongings,', 'and', 'flew', 'to', 'India', 'searching', 'for', 'Nirvana', 'or', 'the', 'true', 'meaning', 'of', 'his', 'life.', \"It's\", 'a', 'story', 'about', 'the', 'transformation', 'of', '53-year-old', 'Julian', 'into', 'a', 'man', 'who', 'looks', 'like', '30', 'without', 'any', 'wrinkles', 'on', 'his', 'face.', 'Julian', 'came', 'to', 'his', 'country', 'and', 'met', 'his', 'old', 'friend', 'and', 'colleague', 'John.', 'Julian', 'shared', 'his', 'story', 'and', 'experience', 'with', 'his', 'friend.', 'Robin', 'Sharma', 'shows', 'a', 'path', 'of', 'enlightenment', 'through', 'seven', 'timeless', 'virtue', 'and', 'symbols.', 'This', 'story', 'tells', 'you', 'how', 'to', 'master', 'your', 'mind,', 'follow', 'your', 'purpose,', 'practice', 'Kaizen,', 'live', 'with', 'discipline,', 'respect', 'your', 'time,', 'selflessly', 'serve', 'others,', 'and', 'embrace', 'the', 'present.', 'The', 'story', 'has', 'a', 'single', 'POV.', 'It', 'is', 'slow-paced,', 'and', 'a', 'few', 'times,', 'it', 'makes', 'me', 'bored.', 'The', 'characters', 'are', 'a', 'little', 'bit', 'dull.', 'Julian', 'is', 'considered', 'a', 'litigator,', 'while', 'John', 'wants', 'to', 'understand', 'his', \"friend's\", 'shared.', 'This', 'book', 'fills', 'with', 'different', 'examples', 'and', 'stories', 'to', 'understand', 'the', 'meaning', 'of', 'life.', 'Julian', 'learned', 'these', 'things', 'from', 'the', 'Sages', 'of', 'Sivana', 'in', 'India.', 'The', 'story', 'definitely', 'left', 'an', 'impact', 'on', 'readers.', 'This', 'book', 'encourages', 'you', 'to', 'follow', 'your', 'calling', 'and', 'do', 'what', 'makes', 'you', 'happy.', 'It', 'is', 'a', 'recommendable', 'read.']\n"
     ]
    }
   ],
   "source": [
    "lines = f.split() #Splitting the data into separate lines using the split() function\n",
    "print(lines)      #printing the splitted data convrted into a list"
   ]
  },
  {
   "cell_type": "code",
   "execution_count": 3,
   "id": "250bf098",
   "metadata": {},
   "outputs": [],
   "source": [
    "total_words=0                        #intializing word count to zero\n",
    "total_words=total_words+len(lines)   #calculatng the total n. of words given in the file"
   ]
  },
  {
   "cell_type": "code",
   "execution_count": 4,
   "id": "9a57ccb7",
   "metadata": {},
   "outputs": [],
   "source": [
    "rate_per_word=0.50                   #rate per word given by the company to the intern\n",
    "stipend = rate_per_word*total_words  #Calculation of stipend of the intern for his work"
   ]
  },
  {
   "cell_type": "code",
   "execution_count": 6,
   "id": "ccf8fb0c",
   "metadata": {},
   "outputs": [
    {
     "name": "stdout",
     "output_type": "stream",
     "text": [
      "Words given in the work submitted: 266\n",
      "The Stipend for the intern will be: Rs. 133.0\n"
     ]
    }
   ],
   "source": [
    "print(\"Words given in the work submitted:\",total_words)\n",
    "print(\"The Stipend for the intern will be:\",\"Rs.\",stipend)"
   ]
  }
 ],
 "metadata": {
  "kernelspec": {
   "display_name": "Python 3",
   "language": "python",
   "name": "python3"
  },
  "language_info": {
   "codemirror_mode": {
    "name": "ipython",
    "version": 3
   },
   "file_extension": ".py",
   "mimetype": "text/x-python",
   "name": "python",
   "nbconvert_exporter": "python",
   "pygments_lexer": "ipython3",
   "version": "3.8.8"
  }
 },
 "nbformat": 4,
 "nbformat_minor": 5
}
